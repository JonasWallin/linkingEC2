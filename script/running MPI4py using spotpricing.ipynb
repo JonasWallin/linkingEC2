{
 "cells": [
  {
   "cell_type": "markdown",
   "metadata": {},
   "source": [
    "##  running MPI4py on EC2 using spotpricing\n",
    "#### For general tutorial of running running MPI4py this tutorial is more linked towards spotpricing\n"
   ]
  },
  {
   "cell_type": "code",
   "execution_count": 1,
   "metadata": {
    "collapsed": false
   },
   "outputs": [
    {
     "name": "stdout",
     "output_type": "stream",
     "text": [
      "Collecting git+https://git@github.com/JonasWallin/linkingEC2\n",
      "  Cloning https://git@github.com/JonasWallin/linkingEC2 to /var/folders/ct/zpjk2t696k5bv03sqq9xrpd00000gn/T/pip-Bj9Acz-build\n",
      "Requirement already up-to-date: boto in /Users/jonaswallin/anaconda/lib/python2.7/site-packages (from linkingEC2==0.1)\n",
      "Installing collected packages: linkingEC2\n",
      "  Found existing installation: linkingEC2 0.1\n",
      "    Uninstalling linkingEC2-0.1:\n",
      "      Successfully uninstalled linkingEC2-0.1\n",
      "  Running setup.py install for linkingEC2\n",
      "Successfully installed linkingEC2-0.1\n"
     ]
    }
   ],
   "source": [
    "%%bash\n",
    ". ~/.bashrc\n",
    "pip install  --upgrade git+https://git@github.com/JonasWallin/linkingEC2\n",
    "\n"
   ]
  },
  {
   "cell_type": "code",
   "execution_count": 2,
   "metadata": {
    "collapsed": true
   },
   "outputs": [],
   "source": [
    "## STARTING UPP LINKER\n",
    "\n",
    "from ConfigParser import ConfigParser\n",
    "config = ConfigParser()\n",
    "starfigconfig_folder = \"/Users/jonaswallin/.starcluster/\"\n",
    "config.read(starfigconfig_folder + \"config\")\n",
    "\n",
    "acess_key_id     = config.get('aws info', 'aws_access_key_id'    , 0)\n",
    "aws_secret_key   = config.get('aws info', 'aws_secret_access_key', 0)\n",
    "aws_region_name  = config.get('aws info', 'aws_region_name'      , 0)\n",
    "my_key_loc       = config.get('key mykeyABC', 'key_location',0)\n",
    "from linkingEC2 import LinkingHandler\n",
    "linker = LinkingHandler(aws_secret_access_key = aws_secret_key,\n",
    "                        aws_access_key_id     = acess_key_id,\n",
    "                        aws_region_name       = aws_region_name,\n",
    "                        key_location          = my_key_loc,\n",
    "                        key_name              = 'mykeyABC')"
   ]
  },
  {
   "cell_type": "markdown",
   "metadata": {
    "collapsed": false
   },
   "source": [
    "### Here one need to have created some spotprices!"
   ]
  },
  {
   "cell_type": "code",
   "execution_count": 3,
   "metadata": {
    "collapsed": false
   },
   "outputs": [
    {
     "ename": "AttributeError",
     "evalue": "'NoneType' object has no attribute 'append'",
     "output_type": "error",
     "traceback": [
      "\u001b[0;31m---------------------------------------------------------------------------\u001b[0m",
      "\u001b[0;31mAttributeError\u001b[0m                            Traceback (most recent call last)",
      "\u001b[0;32m<ipython-input-3-6fd4b1e35df2>\u001b[0m in \u001b[0;36m<module>\u001b[0;34m()\u001b[0m\n\u001b[0;32m----> 1\u001b[0;31m \u001b[0mlinker\u001b[0m\u001b[0;34m.\u001b[0m\u001b[0mconnect_spot_instances\u001b[0m\u001b[0;34m(\u001b[0m\u001b[0;34m)\u001b[0m\u001b[0;34m\u001b[0m\u001b[0m\n\u001b[0m",
      "\u001b[0;32m/Users/jonaswallin/anaconda/lib/python2.7/site-packages/linkingEC2/linkingEC2class.pyc\u001b[0m in \u001b[0;36mconnect_spot_instances\u001b[0;34m(self, first_time)\u001b[0m\n\u001b[1;32m     84\u001b[0m                                 \u001b[0mres\u001b[0m \u001b[0;34m=\u001b[0m \u001b[0mself\u001b[0m\u001b[0;34m.\u001b[0m\u001b[0mconn\u001b[0m\u001b[0;34m.\u001b[0m\u001b[0mget_all_instances\u001b[0m\u001b[0;34m(\u001b[0m\u001b[0minstance_ids\u001b[0m\u001b[0;34m=\u001b[0m\u001b[0;34m[\u001b[0m\u001b[0mspot\u001b[0m\u001b[0;34m.\u001b[0m\u001b[0minstance_id\u001b[0m\u001b[0;34m]\u001b[0m\u001b[0;34m)\u001b[0m\u001b[0;34m\u001b[0m\u001b[0m\n\u001b[1;32m     85\u001b[0m                                 \u001b[0mnode_alias\u001b[0m  \u001b[0;34m=\u001b[0m \u001b[0;34m'node{0:03d}'\u001b[0m\u001b[0;34m.\u001b[0m\u001b[0mformat\u001b[0m\u001b[0;34m(\u001b[0m\u001b[0mi\u001b[0m\u001b[0;34m+\u001b[0m\u001b[0;36m1\u001b[0m\u001b[0;34m)\u001b[0m\u001b[0;34m\u001b[0m\u001b[0m\n\u001b[0;32m---> 86\u001b[0;31m                                 \u001b[0mself\u001b[0m\u001b[0;34m.\u001b[0m\u001b[0mreservation\u001b[0m\u001b[0;34m.\u001b[0m\u001b[0mappend\u001b[0m\u001b[0;34m(\u001b[0m\u001b[0mres\u001b[0m\u001b[0;34m[\u001b[0m\u001b[0;36m0\u001b[0m\u001b[0;34m]\u001b[0m\u001b[0;34m.\u001b[0m\u001b[0minstances\u001b[0m\u001b[0;34m[\u001b[0m\u001b[0;36m0\u001b[0m\u001b[0;34m]\u001b[0m\u001b[0;34m)\u001b[0m\u001b[0;34m\u001b[0m\u001b[0m\n\u001b[0m\u001b[1;32m     87\u001b[0m                                 \u001b[0mpublic_dns\u001b[0m  \u001b[0;34m=\u001b[0m \u001b[0mres\u001b[0m\u001b[0;34m[\u001b[0m\u001b[0;36m0\u001b[0m\u001b[0;34m]\u001b[0m\u001b[0;34m.\u001b[0m\u001b[0minstances\u001b[0m\u001b[0;34m[\u001b[0m\u001b[0;36m0\u001b[0m\u001b[0;34m]\u001b[0m\u001b[0;34m.\u001b[0m\u001b[0mpublic_dns_name\u001b[0m\u001b[0;34m\u001b[0m\u001b[0m\n\u001b[1;32m     88\u001b[0m                                 \u001b[0mprivate_dns\u001b[0m \u001b[0;34m=\u001b[0m \u001b[0mres\u001b[0m\u001b[0;34m[\u001b[0m\u001b[0;36m0\u001b[0m\u001b[0;34m]\u001b[0m\u001b[0;34m.\u001b[0m\u001b[0minstances\u001b[0m\u001b[0;34m[\u001b[0m\u001b[0;36m0\u001b[0m\u001b[0;34m]\u001b[0m\u001b[0;34m.\u001b[0m\u001b[0mprivate_dns_name\u001b[0m\u001b[0;34m\u001b[0m\u001b[0m\n",
      "\u001b[0;31mAttributeError\u001b[0m: 'NoneType' object has no attribute 'append'"
     ]
    }
   ],
   "source": [
    "linker.connect_spot_instances()"
   ]
  },
  {
   "cell_type": "code",
   "execution_count": null,
   "metadata": {
    "collapsed": true
   },
   "outputs": [],
   "source": [
    "import time\n",
    "PACKAGES_APT = ['python-dev', 'openmpi-bin', 'libopenmpi-dev', 'python-numpy']\n",
    "PACKAGES_PIP = ['mpi4py']\n",
    "time_in = time.time()\n",
    "linker.apt_install(PACKAGES_APT)\n",
    "linker.pip_install(PACKAGES_PIP)\n",
    "time_out = time.time()\n",
    "import os\n",
    "os.system('say \"your packages is downloaded\"')\n",
    "print('it took {time:.2f} sec'.format(time = time_out - time_in))"
   ]
  },
  {
   "cell_type": "code",
   "execution_count": 4,
   "metadata": {
    "collapsed": false
   },
   "outputs": [
    {
     "name": "stdout",
     "output_type": "stream",
     "text": [
      "Overwriting calc_pi_MPI.py\n"
     ]
    }
   ],
   "source": [
    "%%writefile calc_pi_MPI.py\n",
    "from mpi4py import MPI\n",
    "import numpy as np\n",
    "import random\n",
    "comm = MPI.COMM_WORLD\n",
    "rank = comm.Get_rank()\n",
    "mpisize = comm.Get_size()\n",
    "nsamples = int(12e6/mpisize)\n",
    "inside = 0\n",
    "random.seed(rank)\n",
    "for i in range(nsamples):\n",
    "    x = random.random()\n",
    "    y = random.random()\n",
    "if (x*x)+(y*y)<1:\n",
    "    inside += 1\n",
    "mypi = (4.0 * inside)/nsamples\n",
    "pi = comm.reduce(mypi, op=MPI.SUM, root=0)\n",
    "if rank==0:\n",
    "    print (1.0 / mpisize)*pi"
   ]
  },
  {
   "cell_type": "code",
   "execution_count": 5,
   "metadata": {
    "collapsed": false
   },
   "outputs": [
    {
     "data": {
      "text/plain": [
       "[SpotInstanceRequest:sir-021kesj1,\n",
       " SpotInstanceRequest:sir-021l0tb4,\n",
       " SpotInstanceRequest:sir-021j83dz,\n",
       " SpotInstanceRequest:sir-021rpk5s]"
      ]
     },
     "execution_count": 5,
     "metadata": {},
     "output_type": "execute_result"
    }
   ],
   "source": [
    "linker.conn.get_all_spot_instance_requests()"
   ]
  },
  {
   "cell_type": "code",
   "execution_count": null,
   "metadata": {
    "collapsed": true
   },
   "outputs": [],
   "source": []
  }
 ],
 "metadata": {
  "kernelspec": {
   "display_name": "Python 2",
   "language": "python",
   "name": "python2"
  },
  "language_info": {
   "codemirror_mode": {
    "name": "ipython",
    "version": 2
   },
   "file_extension": ".py",
   "mimetype": "text/x-python",
   "name": "python",
   "nbconvert_exporter": "python",
   "pygments_lexer": "ipython2",
   "version": "2.7.10"
  }
 },
 "nbformat": 4,
 "nbformat_minor": 0
}
