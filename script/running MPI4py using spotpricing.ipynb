{
 "cells": [
  {
   "cell_type": "markdown",
   "metadata": {},
   "source": [
    "##  running MPI4py on EC2 using spotpricing\n",
    "#### For general tutorial of running running MPI4py this tutorial is more linked towards spotpricing\n"
   ]
  },
  {
   "cell_type": "code",
   "execution_count": 1,
   "metadata": {
    "collapsed": false
   },
   "outputs": [
    {
     "name": "stdout",
     "output_type": "stream",
     "text": [
      "Collecting git+https://git@github.com/JonasWallin/linkingEC2\n",
      "  Cloning https://git@github.com/JonasWallin/linkingEC2 to /var/folders/ct/zpjk2t696k5bv03sqq9xrpd00000gn/T/pip-YtAV2O-build\n",
      "Requirement already up-to-date: boto in /Users/jonaswallin/anaconda/lib/python2.7/site-packages (from linkingEC2==0.1)\n",
      "Installing collected packages: linkingEC2\n",
      "  Found existing installation: linkingEC2 0.1\n",
      "    Uninstalling linkingEC2-0.1:\n",
      "      Successfully uninstalled linkingEC2-0.1\n",
      "  Running setup.py install for linkingEC2\n",
      "Successfully installed linkingEC2-0.1\n"
     ]
    }
   ],
   "source": [
    "%%bash\n",
    ". ~/.bashrc\n",
    "pip install  --upgrade git+https://git@github.com/JonasWallin/linkingEC2\n",
    "\n"
   ]
  },
  {
   "cell_type": "code",
   "execution_count": 2,
   "metadata": {
    "collapsed": true
   },
   "outputs": [],
   "source": [
    "## STARTING UPP LINKER\n",
    "\n",
    "from ConfigParser import ConfigParser\n",
    "config = ConfigParser()\n",
    "starfigconfig_folder = \"/Users/jonaswallin/.starcluster/\"\n",
    "config.read(starfigconfig_folder + \"config\")\n",
    "\n",
    "acess_key_id     = config.get('aws info', 'aws_access_key_id'    , 0)\n",
    "aws_secret_key   = config.get('aws info', 'aws_secret_access_key', 0)\n",
    "aws_region_name  = config.get('aws info', 'aws_region_name'      , 0)\n",
    "my_key_loc       = config.get('key mykeyABC', 'key_location',0)\n",
    "from linkingEC2 import LinkingHandler\n",
    "linker = LinkingHandler(aws_secret_access_key = aws_secret_key,\n",
    "                        aws_access_key_id     = acess_key_id,\n",
    "                        aws_region_name       = aws_region_name,\n",
    "                        key_location          = my_key_loc,\n",
    "                        key_name              = 'mykeyABC')"
   ]
  },
  {
   "cell_type": "markdown",
   "metadata": {
    "collapsed": false
   },
   "source": [
    "### Here one need to have created some spotprices!"
   ]
  },
  {
   "cell_type": "code",
   "execution_count": 3,
   "metadata": {
    "collapsed": false
   },
   "outputs": [
    {
     "name": "stdout",
     "output_type": "stream",
     "text": [
      "checking if ssh into node003 works:\n",
      "*\n",
      "checking if ssh into node004 works:\n",
      "*\n",
      "collecting node003 number of processes:done\n",
      "collecting node004 number of processes:done\n",
      "copying ~/.ssh/mykeyABC.rsa to external ~/.ssh/id_rsa\n",
      "copying files to node003 done\n",
      "copying files to node004 done\n",
      "disable StrictHostKeyChecking  in node003:appending to ~/nodefile in node003 done\n",
      "appending to /etc/hosts in node003 done\n"
     ]
    }
   ],
   "source": [
    "linker.connect_spot_instances()"
   ]
  },
  {
   "cell_type": "code",
   "execution_count": 4,
   "metadata": {
    "collapsed": false
   },
   "outputs": [
    {
     "name": "stdout",
     "output_type": "stream",
     "text": [
      "installing the packages : python-dev openmpi-bin libopenmpi-dev python-numpy\n",
      "\n",
      "update apt-get for node003\n",
      "update apt-get for node004\n",
      "node003 is done\n",
      "node004 is done\n",
      "upgrade apt-get for node003\n",
      "upgrade apt-get for node004\n",
      "node003 is done\n",
      "node004 is done\n",
      "installing the packages : python-pip\n",
      "\n",
      "installing package for node003\n",
      "installing package for node004\n",
      "node003 is done\n",
      "node004 is done\n",
      "installing the packages : mpi4py\n",
      "\n",
      "installing package for node004\n",
      "installing package for node003\n",
      "node004 is done\n",
      "node003 is done\n",
      "it took 102.44 sec\n",
      "installing package for node003\n",
      "installing package for node004\n",
      "node003 is done\n",
      "node004 is done\n"
     ]
    }
   ],
   "source": [
    "import time\n",
    "PACKAGES_APT = ['python-dev', 'openmpi-bin', 'libopenmpi-dev', 'python-numpy']\n",
    "PACKAGES_PIP = ['mpi4py']\n",
    "time_in = time.time()\n",
    "linker.apt_install(PACKAGES_APT)\n",
    "linker.pip_install(PACKAGES_PIP)\n",
    "time_out = time.time()\n",
    "import os\n",
    "os.system('say \"your packages is downloaded\"')\n",
    "print('it took {time:.2f} sec'.format(time = time_out - time_in))"
   ]
  },
  {
   "cell_type": "code",
   "execution_count": 5,
   "metadata": {
    "collapsed": false
   },
   "outputs": [
    {
     "name": "stdout",
     "output_type": "stream",
     "text": [
      "Overwriting calc_pi_MPI.py\n"
     ]
    }
   ],
   "source": [
    "%%writefile calc_pi_MPI.py\n",
    "from mpi4py import MPI\n",
    "import numpy as np\n",
    "import random\n",
    "comm = MPI.COMM_WORLD\n",
    "rank = comm.Get_rank()\n",
    "mpisize = comm.Get_size()\n",
    "nsamples = int(12e6/mpisize)\n",
    "inside = 0\n",
    "random.seed(rank)\n",
    "for i in range(nsamples):\n",
    "    x = random.random()\n",
    "    y = random.random()\n",
    "    if (x*x)+(y*y)<1:\n",
    "        inside += 1\n",
    "mypi = (4.0 * inside)/nsamples\n",
    "pi = comm.reduce(mypi, op=MPI.SUM, root=0)\n",
    "if rank==0:\n",
    "    print('estimate of pi = ',end = '')\n",
    "    print (1.0 / mpisize)*pi"
   ]
  },
  {
   "cell_type": "code",
   "execution_count": 6,
   "metadata": {
    "collapsed": false
   },
   "outputs": [
    {
     "name": "stdout",
     "output_type": "stream",
     "text": [
      "copying calc_pi_MPI.py to external ~/\n",
      "copying files to node003 done\n",
      "copying files to node004 done\n"
     ]
    }
   ],
   "source": [
    "linker.copy_files_to_nodes( file_name = 'calc_pi_MPI.py', destination='~/' ) # deafult desnination is ~/"
   ]
  },
  {
   "cell_type": "code",
   "execution_count": 11,
   "metadata": {
    "collapsed": false
   },
   "outputs": [
    {
     "name": "stdout",
     "output_type": "stream",
     "text": [
      "node003, sshing in  mpirun -hostfile nodefile -n 4 python calc_pi_MPI.py \n",
      "node003 done\n"
     ]
    },
    {
     "data": {
      "text/plain": [
       "0"
      ]
     },
     "execution_count": 11,
     "metadata": {},
     "output_type": "execute_result"
    }
   ],
   "source": [
    "import numpy as np\n",
    "tot_process = np.sum([node['n_process'] for node in linker.nodes])\n",
    "command = 'mpirun -hostfile nodefile -n %d python calc_pi_MPI.py'%(tot_process)\n",
    "linker.send_command_ssh(nodes = 0, command = command)"
   ]
  },
  {
   "cell_type": "code",
   "execution_count": null,
   "metadata": {
    "collapsed": true
   },
   "outputs": [],
   "source": []
  },
  {
   "cell_type": "code",
   "execution_count": 10,
   "metadata": {
    "collapsed": false
   },
   "outputs": [
    {
     "name": "stdout",
     "output_type": "stream",
     "text": [
      "ssh  -i ~/.ssh/mykeyABC.rsa -o 'StrictHostKeyChecking no'  ubuntu@ec2-52-23-158-28.compute-1.amazonaws.com\n"
     ]
    }
   ],
   "source": [
    "print(\"ssh  -i {keyloc} -o 'StrictHostKeyChecking no'  ubuntu@{hostname}\".format(\n",
    "\t\tkeyloc = linker.my_key_location,\n",
    "\t\thostname =  linker.nodes[0]['public_dns']))"
   ]
  },
  {
   "cell_type": "code",
   "execution_count": 12,
   "metadata": {
    "collapsed": false
   },
   "outputs": [
    {
     "ename": "TypeError",
     "evalue": "object of type 'SpotInstanceRequest' has no len()",
     "output_type": "error",
     "traceback": [
      "\u001b[0;31m---------------------------------------------------------------------------\u001b[0m",
      "\u001b[0;31mTypeError\u001b[0m                                 Traceback (most recent call last)",
      "\u001b[0;32m<ipython-input-12-4556a7cc1b9e>\u001b[0m in \u001b[0;36m<module>\u001b[0;34m()\u001b[0m\n\u001b[0;32m----> 1\u001b[0;31m \u001b[0mlinker\u001b[0m\u001b[0;34m.\u001b[0m\u001b[0mterminate_cluster\u001b[0m\u001b[0;34m(\u001b[0m\u001b[0;34m)\u001b[0m\u001b[0;34m\u001b[0m\u001b[0m\n\u001b[0m",
      "\u001b[0;32m/Users/jonaswallin/anaconda/lib/python2.7/site-packages/linkingEC2/linkingEC2class.pyc\u001b[0m in \u001b[0;36mterminate_cluster\u001b[0;34m(self)\u001b[0m\n\u001b[1;32m    273\u001b[0m \u001b[0;34m\u001b[0m\u001b[0m\n\u001b[1;32m    274\u001b[0m                 \u001b[0;32mfor\u001b[0m \u001b[0mspot_instance\u001b[0m \u001b[0;32min\u001b[0m \u001b[0mself\u001b[0m\u001b[0;34m.\u001b[0m\u001b[0mspotprice_reservation\u001b[0m\u001b[0;34m:\u001b[0m\u001b[0;34m\u001b[0m\u001b[0m\n\u001b[0;32m--> 275\u001b[0;31m                         \u001b[0mself\u001b[0m\u001b[0;34m.\u001b[0m\u001b[0mconn\u001b[0m\u001b[0;34m.\u001b[0m\u001b[0mcancel_spot_instance_requests\u001b[0m\u001b[0;34m(\u001b[0m\u001b[0mspot_instance\u001b[0m\u001b[0;34m)\u001b[0m\u001b[0;34m\u001b[0m\u001b[0m\n\u001b[0m\u001b[1;32m    276\u001b[0m \u001b[0;34m\u001b[0m\u001b[0m\n\u001b[1;32m    277\u001b[0m                 \u001b[0;32mfor\u001b[0m \u001b[0mi\u001b[0m \u001b[0;32min\u001b[0m \u001b[0mrange\u001b[0m\u001b[0;34m(\u001b[0m\u001b[0mlen\u001b[0m\u001b[0;34m(\u001b[0m\u001b[0mself\u001b[0m\u001b[0;34m.\u001b[0m\u001b[0mreservation\u001b[0m\u001b[0;34m.\u001b[0m\u001b[0minstances\u001b[0m\u001b[0;34m)\u001b[0m\u001b[0;34m)\u001b[0m\u001b[0;34m:\u001b[0m\u001b[0;34m\u001b[0m\u001b[0m\n",
      "\u001b[0;32m/Users/jonaswallin/anaconda/lib/python2.7/site-packages/boto/ec2/connection.pyc\u001b[0m in \u001b[0;36mcancel_spot_instance_requests\u001b[0;34m(self, request_ids, dry_run)\u001b[0m\n\u001b[1;32m   1653\u001b[0m         \u001b[0mparams\u001b[0m \u001b[0;34m=\u001b[0m \u001b[0;34m{\u001b[0m\u001b[0;34m}\u001b[0m\u001b[0;34m\u001b[0m\u001b[0m\n\u001b[1;32m   1654\u001b[0m         \u001b[0;32mif\u001b[0m \u001b[0mrequest_ids\u001b[0m\u001b[0;34m:\u001b[0m\u001b[0;34m\u001b[0m\u001b[0m\n\u001b[0;32m-> 1655\u001b[0;31m             \u001b[0mself\u001b[0m\u001b[0;34m.\u001b[0m\u001b[0mbuild_list_params\u001b[0m\u001b[0;34m(\u001b[0m\u001b[0mparams\u001b[0m\u001b[0;34m,\u001b[0m \u001b[0mrequest_ids\u001b[0m\u001b[0;34m,\u001b[0m \u001b[0;34m'SpotInstanceRequestId'\u001b[0m\u001b[0;34m)\u001b[0m\u001b[0;34m\u001b[0m\u001b[0m\n\u001b[0m\u001b[1;32m   1656\u001b[0m         \u001b[0;32mif\u001b[0m \u001b[0mdry_run\u001b[0m\u001b[0;34m:\u001b[0m\u001b[0;34m\u001b[0m\u001b[0m\n\u001b[1;32m   1657\u001b[0m             \u001b[0mparams\u001b[0m\u001b[0;34m[\u001b[0m\u001b[0;34m'DryRun'\u001b[0m\u001b[0;34m]\u001b[0m \u001b[0;34m=\u001b[0m \u001b[0;34m'true'\u001b[0m\u001b[0;34m\u001b[0m\u001b[0m\n",
      "\u001b[0;32m/Users/jonaswallin/anaconda/lib/python2.7/site-packages/boto/connection.pyc\u001b[0m in \u001b[0;36mbuild_list_params\u001b[0;34m(self, params, items, label)\u001b[0m\n\u001b[1;32m   1119\u001b[0m         \u001b[0;32mif\u001b[0m \u001b[0misinstance\u001b[0m\u001b[0;34m(\u001b[0m\u001b[0mitems\u001b[0m\u001b[0;34m,\u001b[0m \u001b[0msix\u001b[0m\u001b[0;34m.\u001b[0m\u001b[0mstring_types\u001b[0m\u001b[0;34m)\u001b[0m\u001b[0;34m:\u001b[0m\u001b[0;34m\u001b[0m\u001b[0m\n\u001b[1;32m   1120\u001b[0m             \u001b[0mitems\u001b[0m \u001b[0;34m=\u001b[0m \u001b[0;34m[\u001b[0m\u001b[0mitems\u001b[0m\u001b[0;34m]\u001b[0m\u001b[0;34m\u001b[0m\u001b[0m\n\u001b[0;32m-> 1121\u001b[0;31m         \u001b[0;32mfor\u001b[0m \u001b[0mi\u001b[0m \u001b[0;32min\u001b[0m \u001b[0mrange\u001b[0m\u001b[0;34m(\u001b[0m\u001b[0;36m1\u001b[0m\u001b[0;34m,\u001b[0m \u001b[0mlen\u001b[0m\u001b[0;34m(\u001b[0m\u001b[0mitems\u001b[0m\u001b[0;34m)\u001b[0m \u001b[0;34m+\u001b[0m \u001b[0;36m1\u001b[0m\u001b[0;34m)\u001b[0m\u001b[0;34m:\u001b[0m\u001b[0;34m\u001b[0m\u001b[0m\n\u001b[0m\u001b[1;32m   1122\u001b[0m             \u001b[0mparams\u001b[0m\u001b[0;34m[\u001b[0m\u001b[0;34m'%s.%d'\u001b[0m \u001b[0;34m%\u001b[0m \u001b[0;34m(\u001b[0m\u001b[0mlabel\u001b[0m\u001b[0;34m,\u001b[0m \u001b[0mi\u001b[0m\u001b[0;34m)\u001b[0m\u001b[0;34m]\u001b[0m \u001b[0;34m=\u001b[0m \u001b[0mitems\u001b[0m\u001b[0;34m[\u001b[0m\u001b[0mi\u001b[0m \u001b[0;34m-\u001b[0m \u001b[0;36m1\u001b[0m\u001b[0;34m]\u001b[0m\u001b[0;34m\u001b[0m\u001b[0m\n\u001b[1;32m   1123\u001b[0m \u001b[0;34m\u001b[0m\u001b[0m\n",
      "\u001b[0;31mTypeError\u001b[0m: object of type 'SpotInstanceRequest' has no len()"
     ]
    }
   ],
   "source": [
    "linker.terminate_cluster()"
   ]
  },
  {
   "cell_type": "code",
   "execution_count": 13,
   "metadata": {
    "collapsed": false
   },
   "outputs": [
    {
     "name": "stderr",
     "output_type": "stream",
     "text": [
      "ERROR:boto:400 Bad Request\n",
      "ERROR:boto:<?xml version=\"1.0\" encoding=\"UTF-8\"?>\n",
      "<Response><Errors><Error><Code>InvalidSpotInstanceRequestID.Malformed</Code><Message>Invalid id :\"SpotInstanceRequest:sir-021j83dz\" (expecting \"sir-...\")</Message></Error></Errors><RequestID>f9238672-5a35-47f7-83a3-c3897ece0aed</RequestID></Response>\n"
     ]
    },
    {
     "ename": "EC2ResponseError",
     "evalue": "EC2ResponseError: 400 Bad Request\n<?xml version=\"1.0\" encoding=\"UTF-8\"?>\n<Response><Errors><Error><Code>InvalidSpotInstanceRequestID.Malformed</Code><Message>Invalid id :\"SpotInstanceRequest:sir-021j83dz\" (expecting \"sir-...\")</Message></Error></Errors><RequestID>f9238672-5a35-47f7-83a3-c3897ece0aed</RequestID></Response>",
     "output_type": "error",
     "traceback": [
      "\u001b[0;31m---------------------------------------------------------------------------\u001b[0m",
      "\u001b[0;31mEC2ResponseError\u001b[0m                          Traceback (most recent call last)",
      "\u001b[0;32m<ipython-input-13-b0186e0a8e5a>\u001b[0m in \u001b[0;36m<module>\u001b[0;34m()\u001b[0m\n\u001b[0;32m----> 1\u001b[0;31m \u001b[0mlinker\u001b[0m\u001b[0;34m.\u001b[0m\u001b[0mconn\u001b[0m\u001b[0;34m.\u001b[0m\u001b[0mcancel_spot_instance_requests\u001b[0m\u001b[0;34m(\u001b[0m\u001b[0mlinker\u001b[0m\u001b[0;34m.\u001b[0m\u001b[0mspotprice_reservation\u001b[0m \u001b[0;34m)\u001b[0m\u001b[0;34m\u001b[0m\u001b[0m\n\u001b[0m",
      "\u001b[0;32m/Users/jonaswallin/anaconda/lib/python2.7/site-packages/boto/ec2/connection.pyc\u001b[0m in \u001b[0;36mcancel_spot_instance_requests\u001b[0;34m(self, request_ids, dry_run)\u001b[0m\n\u001b[1;32m   1657\u001b[0m             \u001b[0mparams\u001b[0m\u001b[0;34m[\u001b[0m\u001b[0;34m'DryRun'\u001b[0m\u001b[0;34m]\u001b[0m \u001b[0;34m=\u001b[0m \u001b[0;34m'true'\u001b[0m\u001b[0;34m\u001b[0m\u001b[0m\n\u001b[1;32m   1658\u001b[0m         return self.get_list('CancelSpotInstanceRequests', params,\n\u001b[0;32m-> 1659\u001b[0;31m                              [('item', SpotInstanceRequest)], verb='POST')\n\u001b[0m\u001b[1;32m   1660\u001b[0m \u001b[0;34m\u001b[0m\u001b[0m\n\u001b[1;32m   1661\u001b[0m     \u001b[0;32mdef\u001b[0m \u001b[0mget_spot_datafeed_subscription\u001b[0m\u001b[0;34m(\u001b[0m\u001b[0mself\u001b[0m\u001b[0;34m,\u001b[0m \u001b[0mdry_run\u001b[0m\u001b[0;34m=\u001b[0m\u001b[0mFalse\u001b[0m\u001b[0;34m)\u001b[0m\u001b[0;34m:\u001b[0m\u001b[0;34m\u001b[0m\u001b[0m\n",
      "\u001b[0;32m/Users/jonaswallin/anaconda/lib/python2.7/site-packages/boto/connection.pyc\u001b[0m in \u001b[0;36mget_list\u001b[0;34m(self, action, params, markers, path, parent, verb)\u001b[0m\n\u001b[1;32m   1184\u001b[0m             \u001b[0mboto\u001b[0m\u001b[0;34m.\u001b[0m\u001b[0mlog\u001b[0m\u001b[0;34m.\u001b[0m\u001b[0merror\u001b[0m\u001b[0;34m(\u001b[0m\u001b[0;34m'%s %s'\u001b[0m \u001b[0;34m%\u001b[0m \u001b[0;34m(\u001b[0m\u001b[0mresponse\u001b[0m\u001b[0;34m.\u001b[0m\u001b[0mstatus\u001b[0m\u001b[0;34m,\u001b[0m \u001b[0mresponse\u001b[0m\u001b[0;34m.\u001b[0m\u001b[0mreason\u001b[0m\u001b[0;34m)\u001b[0m\u001b[0;34m)\u001b[0m\u001b[0;34m\u001b[0m\u001b[0m\n\u001b[1;32m   1185\u001b[0m             \u001b[0mboto\u001b[0m\u001b[0;34m.\u001b[0m\u001b[0mlog\u001b[0m\u001b[0;34m.\u001b[0m\u001b[0merror\u001b[0m\u001b[0;34m(\u001b[0m\u001b[0;34m'%s'\u001b[0m \u001b[0;34m%\u001b[0m \u001b[0mbody\u001b[0m\u001b[0;34m)\u001b[0m\u001b[0;34m\u001b[0m\u001b[0m\n\u001b[0;32m-> 1186\u001b[0;31m             \u001b[0;32mraise\u001b[0m \u001b[0mself\u001b[0m\u001b[0;34m.\u001b[0m\u001b[0mResponseError\u001b[0m\u001b[0;34m(\u001b[0m\u001b[0mresponse\u001b[0m\u001b[0;34m.\u001b[0m\u001b[0mstatus\u001b[0m\u001b[0;34m,\u001b[0m \u001b[0mresponse\u001b[0m\u001b[0;34m.\u001b[0m\u001b[0mreason\u001b[0m\u001b[0;34m,\u001b[0m \u001b[0mbody\u001b[0m\u001b[0;34m)\u001b[0m\u001b[0;34m\u001b[0m\u001b[0m\n\u001b[0m\u001b[1;32m   1187\u001b[0m \u001b[0;34m\u001b[0m\u001b[0m\n\u001b[1;32m   1188\u001b[0m     def get_object(self, action, params, cls, path='/',\n",
      "\u001b[0;31mEC2ResponseError\u001b[0m: EC2ResponseError: 400 Bad Request\n<?xml version=\"1.0\" encoding=\"UTF-8\"?>\n<Response><Errors><Error><Code>InvalidSpotInstanceRequestID.Malformed</Code><Message>Invalid id :\"SpotInstanceRequest:sir-021j83dz\" (expecting \"sir-...\")</Message></Error></Errors><RequestID>f9238672-5a35-47f7-83a3-c3897ece0aed</RequestID></Response>"
     ]
    }
   ],
   "source": []
  },
  {
   "cell_type": "code",
   "execution_count": null,
   "metadata": {
    "collapsed": true
   },
   "outputs": [],
   "source": []
  }
 ],
 "metadata": {
  "kernelspec": {
   "display_name": "Python 2",
   "language": "python",
   "name": "python2"
  },
  "language_info": {
   "codemirror_mode": {
    "name": "ipython",
    "version": 2
   },
   "file_extension": ".py",
   "mimetype": "text/x-python",
   "name": "python",
   "nbconvert_exporter": "python",
   "pygments_lexer": "ipython2",
   "version": "2.7.10"
  }
 },
 "nbformat": 4,
 "nbformat_minor": 0
}
