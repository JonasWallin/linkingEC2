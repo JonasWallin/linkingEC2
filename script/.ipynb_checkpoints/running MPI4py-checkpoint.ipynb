{
 "cells": [
  {
   "cell_type": "markdown",
   "metadata": {},
   "source": [
    "## short tutorial on running MPI4py on EC2 \n",
    "#### REMINDER DONT FORGET TO TERMINATE THE CLUSTER AFTER DONE!!!!"
   ]
  },
  {
   "cell_type": "markdown",
   "metadata": {},
   "source": [
    " First getting the information needed to start an EC2 cluster,\n",
    " I have my information stored in ~/.starcluster/config\n",
    " \n",
    " What is needed is: \n",
    " * [security credintals](https://sites.google.com/site/emcloudprocessing/home/setting-up-running-a-cluster-on-amazon-ec2), that is acess_key_id aws_secret_key\n",
    " * [key_for_the_region](http://docs.aws.amazon.com/AWSEC2/latest/UserGuide/ec2-key-pairs.html)\n",
    " * and an [aws region](http://docs.aws.amazon.com/general/latest/gr/rande.html#ec2_region)\n",
    " * and a [security group](http://docs.aws.amazon.com/AWSEC2/latest/UserGuide/using-network-security.html)\n",
    "     * Note that openmpi seems to require that ALL-TCP ports are open internally see link above how to set that"
   ]
  },
  {
   "cell_type": "code",
   "execution_count": 14,
   "metadata": {
    "collapsed": false
   },
   "outputs": [],
   "source": [
    "## short tutorial on running MPI4py on EC2 \n",
    "\n",
    "from ConfigParser import ConfigParser\n",
    "config = ConfigParser()\n",
    "starfigconfig_folder = \"/Users/jonaswallin/.starcluster/\"\n",
    "config.read(starfigconfig_folder + \"config\")\n",
    "\n",
    "acess_key_id     = config.get('aws info', 'aws_access_key_id'    , 0)\n",
    "aws_secret_key   = config.get('aws info', 'aws_secret_access_key', 0)\n",
    "aws_region_name  = config.get('aws info', 'aws_region_name'      , 0)\n",
    "my_key_loc       = config.get('key mykeyABC', 'key_location',0)"
   ]
  },
  {
   "cell_type": "markdown",
   "metadata": {},
   "source": [
    "Now we setup the linkingEC2 object:"
   ]
  },
  {
   "cell_type": "code",
   "execution_count": 15,
   "metadata": {
    "collapsed": false
   },
   "outputs": [
    {
     "name": "stderr",
     "output_type": "stream",
     "text": [
      "ERROR:boto:400 Bad Request\n",
      "ERROR:boto:<?xml version=\"1.0\" encoding=\"UTF-8\"?>\n",
      "<Response><Errors><Error><Code>InvalidInstanceID.NotFound</Code><Message>The instance ID 'i-ce798b65' does not exist</Message></Error></Errors><RequestID>8acd7fa6-a720-44ed-88f7-e50f9354f7a8</RequestID></Response>\n"
     ]
    },
    {
     "name": "stdout",
     "output_type": "stream",
     "text": [
      "waiting for instances 0  to be running: \n",
      "******\n",
      "\n",
      "waiting for instances 1  to be running: \n",
      "\n",
      "\n",
      "checking if ssh into node001 works:\n",
      "**\n",
      "checking if ssh into node002 works:\n",
      "*\n",
      "collecting node001 number of processes:done\n",
      "collecting node002 number of processes:done\n",
      "copying ~/.ssh/mykeyABC.rsa to external ~/.ssh/id_rsa\n",
      "copying files to node001 done\n",
      "copying files to node002 done\n",
      "appending to ~/nodefile in node001 done\n",
      "appending to /etc/hosts in node001 done\n"
     ]
    },
    {
     "name": "stderr",
     "output_type": "stream",
     "text": [
      "Exception boto.exception.EC2ResponseError: EC2ResponseError: 400 Bad Request\n",
      "<?xml version=\"1.0\" encoding=\"UTF-8\"?>\n",
      "<Response><Errors><Error><Code>InvalidInstanceID.NotFound</Code><Message>The instance ID 'i-ce798b65' does not exist</Message></Error></Errors><RequestID>8acd7fa6-a720-44ed-88f7-e50f9354f7a8</RequestID></Response> in <bound method LinkingHandler.__del__ of <linkingEC2.linkingEC2class.LinkingHandler object at 0x106f76ed0>> ignored\n"
     ]
    }
   ],
   "source": [
    "from linkingEC2 import LinkingHandler\n",
    "linker = LinkingHandler(aws_secret_access_key = aws_secret_key,\n",
    "                        aws_access_key_id     = acess_key_id,\n",
    "                        aws_region_name       = aws_region_name,\n",
    "                        key_location          = my_key_loc,\n",
    "                        key_name              = 'mykeyABC' )\n",
    "linker.start_cluster('ami-d05e75b8', 't2.micro', ['linking_EC2'],2)"
   ]
  },
  {
   "cell_type": "markdown",
   "metadata": {},
   "source": [
    "Install the packages required: (this will take some time)"
   ]
  },
  {
   "cell_type": "code",
   "execution_count": 16,
   "metadata": {
    "collapsed": false
   },
   "outputs": [
    {
     "name": "stdout",
     "output_type": "stream",
     "text": [
      "update apt-get for node001 done\n",
      "upgrade apt-get for node001 done\n",
      "update apt-get for node002 done\n",
      "upgrade apt-get for node002 done\n",
      "installing the packages : python-dev openmpi-bin libopenmpi-dev python-numpy\n",
      "installing package for node001 done\n",
      "installing package for node002 done\n",
      "installing the packages : python-pip\n",
      "installing package for node001 done\n",
      "installing package for node002 done\n",
      "installing the packages : mpi4py\n",
      "installing package for node001 done\n",
      "installing package for node002 done\n"
     ]
    },
    {
     "data": {
      "text/plain": [
       "0"
      ]
     },
     "execution_count": 16,
     "metadata": {},
     "output_type": "execute_result"
    }
   ],
   "source": [
    "PACKAGES_APT = ['python-dev', 'openmpi-bin', 'libopenmpi-dev', 'python-numpy']\n",
    "PACKAGES_PIP = ['mpi4py']\n",
    "\n",
    "linker.apt_install(PACKAGES_APT)\n",
    "linker.pip_install(PACKAGES_PIP)\n",
    "import os\n",
    "os.system('say \"your packages is downloaded\"')"
   ]
  },
  {
   "cell_type": "markdown",
   "metadata": {},
   "source": [
    "Create a simple python file (that I found somewhere don't recall where, sorry)"
   ]
  },
  {
   "cell_type": "code",
   "execution_count": 17,
   "metadata": {
    "collapsed": false
   },
   "outputs": [
    {
     "name": "stdout",
     "output_type": "stream",
     "text": [
      "Overwriting calc_pi_MPI.py\n"
     ]
    }
   ],
   "source": [
    "%%writefile calc_pi_MPI.py\n",
    "from mpi4py import MPI\n",
    "import numpy as np\n",
    "import random\n",
    "comm = MPI.COMM_WORLD\n",
    "rank = comm.Get_rank()\n",
    "mpisize = comm.Get_size()\n",
    "nsamples = int(12e6/mpisize)\n",
    "inside = 0\n",
    "random.seed(rank)\n",
    "for i in range(nsamples):\n",
    "    x = random.random()\n",
    "    y = random.random()\n",
    "if (x*x)+(y*y)<1:\n",
    "    inside += 1\n",
    "mypi = (4.0 * inside)/nsamples\n",
    "pi = comm.reduce(mypi, op=MPI.SUM, root=0)\n",
    "if rank==0:\n",
    "    print (1.0 / mpisize)*pi"
   ]
  },
  {
   "cell_type": "markdown",
   "metadata": {
    "collapsed": false
   },
   "source": [
    "Copy the file you created to all your nodes by:"
   ]
  },
  {
   "cell_type": "code",
   "execution_count": 18,
   "metadata": {
    "collapsed": false
   },
   "outputs": [
    {
     "name": "stdout",
     "output_type": "stream",
     "text": [
      "copying calc_pi_MPI.py to external ~/\n",
      "copying files to node001 done\n",
      "copying files to node002 done\n"
     ]
    }
   ],
   "source": [
    "linker.copy_files_to_nodes( file_name = 'calc_pi_MPI.py', destination='~/' ) # deafult desnination is ~/"
   ]
  },
  {
   "cell_type": "markdown",
   "metadata": {
    "collapsed": false
   },
   "source": [
    "On your computer in bash run next cell. Like ex:\n",
    "```bash\n",
    "ssh  -i ~/.ssh/MYKEY.rsa -o 'StrictHostKeyChecking no'  ubuntu@ec2-54-173-155-255.compute-1.amazonaws.com\n",
    "```"
   ]
  },
  {
   "cell_type": "code",
   "execution_count": 20,
   "metadata": {
    "collapsed": false
   },
   "outputs": [
    {
     "name": "stdout",
     "output_type": "stream",
     "text": [
      "ssh  -i ~/.ssh/mykeyABC.rsa -o 'StrictHostKeyChecking no'  ubuntu@ec2-54-174-211-92.compute-1.amazonaws.com\n"
     ]
    }
   ],
   "source": [
    "print( linker.get_ssh_login() ) # print( linker.get_ssh_login(1) )"
   ]
  },
  {
   "cell_type": "markdown",
   "metadata": {},
   "source": [
    "Then on the amazon node run:\n",
    "```bash\n",
    "mpirun -hostfile nodefile -n 2 python calc_pi_MPI.py\n",
    "```\n"
   ]
  },
  {
   "cell_type": "markdown",
   "metadata": {},
   "source": [
    "##TURN OF THE CLUSTER:"
   ]
  },
  {
   "cell_type": "code",
   "execution_count": 21,
   "metadata": {
    "collapsed": true
   },
   "outputs": [],
   "source": [
    "linker.terminate_cluster()"
   ]
  },
  {
   "cell_type": "code",
   "execution_count": null,
   "metadata": {
    "collapsed": true
   },
   "outputs": [],
   "source": []
  }
 ],
 "metadata": {
  "kernelspec": {
   "display_name": "Python 2",
   "language": "python",
   "name": "python2"
  },
  "language_info": {
   "codemirror_mode": {
    "name": "ipython",
    "version": 2
   },
   "file_extension": ".py",
   "mimetype": "text/x-python",
   "name": "python",
   "nbconvert_exporter": "python",
   "pygments_lexer": "ipython2",
   "version": "2.7.10"
  }
 },
 "nbformat": 4,
 "nbformat_minor": 0
}
