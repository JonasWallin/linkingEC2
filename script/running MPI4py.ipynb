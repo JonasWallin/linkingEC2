{
 "cells": [
  {
   "cell_type": "markdown",
   "metadata": {},
   "source": [
    "## short tutorial on running MPI4py on EC2 \n",
    "#### REMINDER DONT FORGET TO TERMINATE THE CLUSTER AFTER DONE!!!!"
   ]
  },
  {
   "cell_type": "markdown",
   "metadata": {},
   "source": [
    "First download linking_EC2."
   ]
  },
  {
   "cell_type": "code",
   "execution_count": 1,
   "metadata": {
    "collapsed": false
   },
   "outputs": [
    {
     "name": "stdout",
     "output_type": "stream",
     "text": [
      "Collecting git+https://git@github.com/JonasWallin/linkingEC2\n",
      "  Cloning https://git@github.com/JonasWallin/linkingEC2 to /var/folders/ct/zpjk2t696k5bv03sqq9xrpd00000gn/T/pip-erbS_c-build\n",
      "Requirement already up-to-date: boto in /Users/jonaswallin/anaconda/lib/python2.7/site-packages (from linkingEC2==0.1)\n",
      "Installing collected packages: linkingEC2\n",
      "  Found existing installation: linkingEC2 0.1\n",
      "    Uninstalling linkingEC2-0.1:\n",
      "      Successfully uninstalled linkingEC2-0.1\n",
      "  Running setup.py install for linkingEC2\n",
      "Successfully installed linkingEC2-0.1\n"
     ]
    }
   ],
   "source": [
    "%%bash\n",
    ". ~/.bashrc\n",
    "pip install  --upgrade git+https://git@github.com/JonasWallin/linkingEC2"
   ]
  },
  {
   "cell_type": "markdown",
   "metadata": {},
   "source": [
    " First getting the information needed to start an EC2 cluster,\n",
    " I have my information stored in ~/.starcluster/config\n",
    " \n",
    " What is needed is: \n",
    " * [security credintals](https://sites.google.com/site/emcloudprocessing/home/setting-up-running-a-cluster-on-amazon-ec2), that is acess_key_id aws_secret_key\n",
    " * [key_for_the_region](http://docs.aws.amazon.com/AWSEC2/latest/UserGuide/ec2-key-pairs.html)\n",
    " * and an [aws region](http://docs.aws.amazon.com/general/latest/gr/rande.html#ec2_region)\n",
    " * and a [security group](http://docs.aws.amazon.com/AWSEC2/latest/UserGuide/using-network-security.html)\n",
    "     * Note that openmpi seems to require that ALL-TCP ports are open internally see link above how to set that"
   ]
  },
  {
   "cell_type": "code",
   "execution_count": 2,
   "metadata": {
    "collapsed": false
   },
   "outputs": [],
   "source": [
    "## short tutorial on running MPI4py on EC2 \n",
    "\n",
    "from ConfigParser import ConfigParser\n",
    "config = ConfigParser()\n",
    "starfigconfig_folder = \"/Users/jonaswallin/.starcluster/\"\n",
    "config.read(starfigconfig_folder + \"config\")\n",
    "\n",
    "acess_key_id     = config.get('aws info', 'aws_access_key_id'    , 0)\n",
    "aws_secret_key   = config.get('aws info', 'aws_secret_access_key', 0)\n",
    "aws_region_name  = config.get('aws info', 'aws_region_name'      , 0)\n",
    "my_key_loc       = config.get('key mykeyABC', 'key_location',0)"
   ]
  },
  {
   "cell_type": "markdown",
   "metadata": {},
   "source": [
    "Now we setup the linkingEC2 object:"
   ]
  },
  {
   "cell_type": "code",
   "execution_count": 3,
   "metadata": {
    "collapsed": false
   },
   "outputs": [],
   "source": [
    "from linkingEC2 import LinkingHandler\n",
    "linker = LinkingHandler(aws_secret_access_key = aws_secret_key,\n",
    "                        aws_access_key_id     = acess_key_id,\n",
    "                        aws_region_name       = aws_region_name,\n",
    "                        key_location          = my_key_loc,\n",
    "                        key_name              = 'mykeyABC')"
   ]
  },
  {
   "cell_type": "code",
   "execution_count": 4,
   "metadata": {
    "collapsed": false
   },
   "outputs": [
    {
     "name": "stdout",
     "output_type": "stream",
     "text": [
      "waiting for instances 0  to be running: \n",
      "********\n",
      "\n",
      "waiting for instances 1  to be running: \n",
      "\n",
      "\n",
      "collecting node001 number of processes:"
     ]
    },
    {
     "ename": "CalledProcessError",
     "evalue": "Command 'ssh -i ~/.ssh/mykeyABC.rsa -o 'StrictHostKeyChecking no' ubuntu@ec2-54-209-126-166.compute-1.amazonaws.com 'cat /proc/cpuinfo | grep processor | wc -l'' returned non-zero exit status 255",
     "output_type": "error",
     "traceback": [
      "\u001b[0;31m---------------------------------------------------------------------------\u001b[0m",
      "\u001b[0;31mCalledProcessError\u001b[0m                        Traceback (most recent call last)",
      "\u001b[0;32m<ipython-input-4-0b399d8ae7a0>\u001b[0m in \u001b[0;36m<module>\u001b[0;34m()\u001b[0m\n\u001b[0;32m----> 1\u001b[0;31m \u001b[0mlinker\u001b[0m\u001b[0;34m.\u001b[0m\u001b[0mstart_cluster\u001b[0m\u001b[0;34m(\u001b[0m\u001b[0;34m'ami-d05e75b8'\u001b[0m\u001b[0;34m,\u001b[0m \u001b[0;34m't2.micro'\u001b[0m\u001b[0;34m,\u001b[0m \u001b[0;34m[\u001b[0m\u001b[0;34m'linking_EC2'\u001b[0m\u001b[0;34m]\u001b[0m\u001b[0;34m,\u001b[0m\u001b[0;36m2\u001b[0m\u001b[0;34m)\u001b[0m\u001b[0;34m\u001b[0m\u001b[0m\n\u001b[0m",
      "\u001b[0;32m/Users/jonaswallin/anaconda/lib/python2.7/site-packages/linkingEC2/linkingEC2class.pyc\u001b[0m in \u001b[0;36mstart_cluster\u001b[0;34m(self, instance, instance_type, security_groups, count, extra_build)\u001b[0m\n\u001b[1;32m    144\u001b[0m                 \u001b[0mself\u001b[0m\u001b[0;34m.\u001b[0m\u001b[0mnodes\u001b[0m \u001b[0;34m=\u001b[0m \u001b[0mget_dns_name\u001b[0m\u001b[0;34m(\u001b[0m\u001b[0mself\u001b[0m\u001b[0;34m.\u001b[0m\u001b[0mreservation\u001b[0m\u001b[0;34m,\u001b[0m \u001b[0mself\u001b[0m\u001b[0;34m.\u001b[0m\u001b[0mconn\u001b[0m\u001b[0;34m,\u001b[0m \u001b[0msilent\u001b[0m \u001b[0;34m=\u001b[0m \u001b[0mself\u001b[0m\u001b[0;34m.\u001b[0m\u001b[0msilent\u001b[0m\u001b[0;34m)\u001b[0m\u001b[0;34m\u001b[0m\u001b[0m\n\u001b[1;32m    145\u001b[0m \u001b[0;34m\u001b[0m\u001b[0m\n\u001b[0;32m--> 146\u001b[0;31m                 \u001b[0mself\u001b[0m\u001b[0;34m.\u001b[0m\u001b[0msetup_cluster\u001b[0m\u001b[0;34m(\u001b[0m\u001b[0mget_n\u001b[0m \u001b[0;34m=\u001b[0m \u001b[0mTrue\u001b[0m\u001b[0;34m,\u001b[0m \u001b[0mfirst_time\u001b[0m \u001b[0;34m=\u001b[0m \u001b[0mextra_build\u001b[0m\u001b[0;34m)\u001b[0m\u001b[0;34m\u001b[0m\u001b[0m\n\u001b[0m\u001b[1;32m    147\u001b[0m \u001b[0;34m\u001b[0m\u001b[0m\n\u001b[1;32m    148\u001b[0m         \u001b[0;32mdef\u001b[0m \u001b[0m_ssh_disable_StrictHostKeyChecking\u001b[0m\u001b[0;34m(\u001b[0m\u001b[0mself\u001b[0m\u001b[0;34m)\u001b[0m\u001b[0;34m:\u001b[0m\u001b[0;34m\u001b[0m\u001b[0m\n",
      "\u001b[0;32m/Users/jonaswallin/anaconda/lib/python2.7/site-packages/linkingEC2/linkingEC2class.pyc\u001b[0m in \u001b[0;36msetup_cluster\u001b[0;34m(self, get_n, first_time)\u001b[0m\n\u001b[1;32m    110\u001b[0m                                                                  \u001b[0mmy_key\u001b[0m \u001b[0;34m=\u001b[0m  \u001b[0mself\u001b[0m\u001b[0;34m.\u001b[0m\u001b[0mmy_key_location\u001b[0m\u001b[0;34m,\u001b[0m\u001b[0;34m\u001b[0m\u001b[0m\n\u001b[1;32m    111\u001b[0m                                                                  \u001b[0muser\u001b[0m   \u001b[0;34m=\u001b[0m \u001b[0mself\u001b[0m\u001b[0;34m.\u001b[0m\u001b[0muser\u001b[0m\u001b[0;34m,\u001b[0m\u001b[0;34m\u001b[0m\u001b[0m\n\u001b[0;32m--> 112\u001b[0;31m \t\t\t\t\t\t\t\t silent = self.silent)\t\n\u001b[0m\u001b[1;32m    113\u001b[0m                 \u001b[0;32mif\u001b[0m \u001b[0mfirst_time\u001b[0m\u001b[0;34m:\u001b[0m\u001b[0;34m\u001b[0m\u001b[0m\n\u001b[1;32m    114\u001b[0m \t\t\tself.copy_files_to_nodes(file_name = self.my_key_location, \n",
      "\u001b[0;32m/Users/jonaswallin/anaconda/lib/python2.7/site-packages/linkingEC2/linkingEC2.pyc\u001b[0m in \u001b[0;36mget_number_processes\u001b[0;34m(nodes, my_key, user, silent)\u001b[0m\n\u001b[1;32m     95\u001b[0m \t\thost = node['public_dns'])\n\u001b[1;32m     96\u001b[0m \u001b[0;34m\u001b[0m\u001b[0m\n\u001b[0;32m---> 97\u001b[0;31m                 \u001b[0mn_process\u001b[0m \u001b[0;34m=\u001b[0m \u001b[0mint\u001b[0m\u001b[0;34m(\u001b[0m\u001b[0msubprocess\u001b[0m\u001b[0;34m.\u001b[0m\u001b[0mcheck_output\u001b[0m\u001b[0;34m(\u001b[0m\u001b[0minput_string\u001b[0m \u001b[0;34m+\u001b[0m \u001b[0minput_command\u001b[0m\u001b[0;34m,\u001b[0m \u001b[0mshell\u001b[0m\u001b[0;34m=\u001b[0m\u001b[0mTrue\u001b[0m\u001b[0;34m,\u001b[0m \u001b[0mstderr\u001b[0m\u001b[0;34m=\u001b[0m\u001b[0msubprocess\u001b[0m\u001b[0;34m.\u001b[0m\u001b[0mSTDOUT\u001b[0m\u001b[0;34m)\u001b[0m\u001b[0;34m)\u001b[0m\u001b[0;34m\u001b[0m\u001b[0m\n\u001b[0m\u001b[1;32m     98\u001b[0m                 \u001b[0mnode\u001b[0m\u001b[0;34m[\u001b[0m\u001b[0;34m'n_process'\u001b[0m\u001b[0;34m]\u001b[0m \u001b[0;34m=\u001b[0m \u001b[0mn_process\u001b[0m\u001b[0;34m\u001b[0m\u001b[0m\n\u001b[1;32m     99\u001b[0m \u001b[0;34m\u001b[0m\u001b[0m\n",
      "\u001b[0;32m/Users/jonaswallin/anaconda/lib/python2.7/subprocess.pyc\u001b[0m in \u001b[0;36mcheck_output\u001b[0;34m(*popenargs, **kwargs)\u001b[0m\n\u001b[1;32m    571\u001b[0m         \u001b[0;32mif\u001b[0m \u001b[0mcmd\u001b[0m \u001b[0;32mis\u001b[0m \u001b[0mNone\u001b[0m\u001b[0;34m:\u001b[0m\u001b[0;34m\u001b[0m\u001b[0m\n\u001b[1;32m    572\u001b[0m             \u001b[0mcmd\u001b[0m \u001b[0;34m=\u001b[0m \u001b[0mpopenargs\u001b[0m\u001b[0;34m[\u001b[0m\u001b[0;36m0\u001b[0m\u001b[0;34m]\u001b[0m\u001b[0;34m\u001b[0m\u001b[0m\n\u001b[0;32m--> 573\u001b[0;31m         \u001b[0;32mraise\u001b[0m \u001b[0mCalledProcessError\u001b[0m\u001b[0;34m(\u001b[0m\u001b[0mretcode\u001b[0m\u001b[0;34m,\u001b[0m \u001b[0mcmd\u001b[0m\u001b[0;34m,\u001b[0m \u001b[0moutput\u001b[0m\u001b[0;34m=\u001b[0m\u001b[0moutput\u001b[0m\u001b[0;34m)\u001b[0m\u001b[0;34m\u001b[0m\u001b[0m\n\u001b[0m\u001b[1;32m    574\u001b[0m     \u001b[0;32mreturn\u001b[0m \u001b[0moutput\u001b[0m\u001b[0;34m\u001b[0m\u001b[0m\n\u001b[1;32m    575\u001b[0m \u001b[0;34m\u001b[0m\u001b[0m\n",
      "\u001b[0;31mCalledProcessError\u001b[0m: Command 'ssh -i ~/.ssh/mykeyABC.rsa -o 'StrictHostKeyChecking no' ubuntu@ec2-54-209-126-166.compute-1.amazonaws.com 'cat /proc/cpuinfo | grep processor | wc -l'' returned non-zero exit status 255"
     ]
    }
   ],
   "source": [
    "linker.start_cluster('ami-d05e75b8', 't2.micro', ['linking_EC2'],2)"
   ]
  },
  {
   "cell_type": "markdown",
   "metadata": {},
   "source": [
    "Install the packages required: (this will take some time)"
   ]
  },
  {
   "cell_type": "code",
   "execution_count": 4,
   "metadata": {
    "collapsed": false
   },
   "outputs": [
    {
     "name": "stdout",
     "output_type": "stream",
     "text": [
      "installing the packages : python-dev openmpi-bin libopenmpi-dev python-numpy\n",
      "update apt-get for node001\n",
      "update apt-get for node002\n",
      "node001 is done\n",
      "node002 is done\n",
      "upgrade apt-get for node001\n",
      "upgrade apt-get for node002\n",
      "node001 is done\n",
      "node002 is done\n",
      "in import_package_to_nodes n_process = 8\n",
      "installing the packages : python-pipinstalling package for node001\n",
      "installing package for node002\n",
      "node001 is done\n",
      "node002 is done\n",
      "\n",
      "in import_package_to_nodes n_process = 8\n",
      "installing the packages : mpi4pyinstalling package for node001\n",
      "installing package for node002\n",
      "node001 is done\n",
      "node002 is done\n",
      "\n",
      "in import_package_to_nodes n_process = 8\n",
      "it took 127.69 secinstalling package for node001\n",
      "installing package for node002\n",
      "node001 is done\n",
      "node002 is done\n",
      "\n"
     ]
    }
   ],
   "source": [
    "import time\n",
    "PACKAGES_APT = ['python-dev', 'openmpi-bin', 'libopenmpi-dev', 'python-numpy']\n",
    "PACKAGES_PIP = ['mpi4py']\n",
    "time_in = time.time()\n",
    "linker.apt_install(PACKAGES_APT)\n",
    "linker.pip_install(PACKAGES_PIP)\n",
    "time_out = time.time()\n",
    "import os\n",
    "os.system('say \"your packages is downloaded\"')\n",
    "print('it took {time:.2f} sec'.format(time = time_out - time_in))"
   ]
  },
  {
   "cell_type": "markdown",
   "metadata": {},
   "source": [
    "Create a simple python file (that I found somewhere don't recall where, sorry)"
   ]
  },
  {
   "cell_type": "code",
   "execution_count": 5,
   "metadata": {
    "collapsed": false
   },
   "outputs": [
    {
     "name": "stdout",
     "output_type": "stream",
     "text": [
      "Overwriting calc_pi_MPI.py\n"
     ]
    }
   ],
   "source": [
    "%%writefile calc_pi_MPI.py\n",
    "from mpi4py import MPI\n",
    "import numpy as np\n",
    "import random\n",
    "comm = MPI.COMM_WORLD\n",
    "rank = comm.Get_rank()\n",
    "mpisize = comm.Get_size()\n",
    "nsamples = int(12e6/mpisize)\n",
    "inside = 0\n",
    "random.seed(rank)\n",
    "for i in range(nsamples):\n",
    "    x = random.random()\n",
    "    y = random.random()\n",
    "if (x*x)+(y*y)<1:\n",
    "    inside += 1\n",
    "mypi = (4.0 * inside)/nsamples\n",
    "pi = comm.reduce(mypi, op=MPI.SUM, root=0)\n",
    "if rank==0:\n",
    "    print (1.0 / mpisize)*pi"
   ]
  },
  {
   "cell_type": "markdown",
   "metadata": {
    "collapsed": false
   },
   "source": [
    "Copy the file you created to all your nodes by:"
   ]
  },
  {
   "cell_type": "code",
   "execution_count": 6,
   "metadata": {
    "collapsed": false
   },
   "outputs": [
    {
     "name": "stdout",
     "output_type": "stream",
     "text": [
      "copying calc_pi_MPI.py to external ~/\n",
      "copying files to node001 done\n",
      "copying files to node002 done\n"
     ]
    }
   ],
   "source": [
    "linker.copy_files_to_nodes( file_name = 'calc_pi_MPI.py', destination='~/' ) # deafult desnination is ~/"
   ]
  },
  {
   "cell_type": "markdown",
   "metadata": {
    "collapsed": false
   },
   "source": [
    "On your computer in bash run next cell. Like ex:\n",
    "```bash\n",
    "ssh  -i ~/.ssh/MYKEY.rsa -o 'StrictHostKeyChecking no'  ubuntu@ec2-54-173-155-255.compute-1.amazonaws.com\n",
    "```"
   ]
  },
  {
   "cell_type": "code",
   "execution_count": 7,
   "metadata": {
    "collapsed": false
   },
   "outputs": [
    {
     "name": "stdout",
     "output_type": "stream",
     "text": [
      "ssh  -i ~/.ssh/mykeyABC.rsa -o 'StrictHostKeyChecking no'  ubuntu@ec2-54-174-99-160.compute-1.amazonaws.com\n"
     ]
    }
   ],
   "source": [
    "print( linker.get_ssh_login() ) # print( linker.get_ssh_login(1) )"
   ]
  },
  {
   "cell_type": "markdown",
   "metadata": {},
   "source": [
    "Then on the amazon node run:\n",
    "```bash\n",
    "mpirun -hostfile nodefile -n 2 python calc_pi_MPI.py\n",
    "```\n"
   ]
  },
  {
   "cell_type": "markdown",
   "metadata": {},
   "source": [
    "##TURN OF THE CLUSTER:"
   ]
  },
  {
   "cell_type": "code",
   "execution_count": 5,
   "metadata": {
    "collapsed": true
   },
   "outputs": [],
   "source": [
    "linker.terminate_cluster()"
   ]
  },
  {
   "cell_type": "code",
   "execution_count": null,
   "metadata": {
    "collapsed": true
   },
   "outputs": [],
   "source": []
  }
 ],
 "metadata": {
  "kernelspec": {
   "display_name": "Python 2",
   "language": "python",
   "name": "python2"
  },
  "language_info": {
   "codemirror_mode": {
    "name": "ipython",
    "version": 2
   },
   "file_extension": ".py",
   "mimetype": "text/x-python",
   "name": "python",
   "nbconvert_exporter": "python",
   "pygments_lexer": "ipython2",
   "version": "2.7.10"
  }
 },
 "nbformat": 4,
 "nbformat_minor": 0
}
